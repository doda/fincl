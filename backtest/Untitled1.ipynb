{
 "cells": [
  {
   "cell_type": "code",
   "execution_count": 1,
   "metadata": {},
   "outputs": [],
   "source": [
    "\tdata = {\n",
    "\t\t'downsampling': 'none',\n",
    "\t\t'binarize': 'fixed',\n",
    "\t\t'binarize_window': 20,\n",
    "\t\t'classifier': 'random_forest',\n",
    "\t\t'alpha': 'ma_crossover',\n",
    "\t\t'bar_type': 'dollar',\n",
    "\t\t'ticker': 'spy',\n",
    "\t\t'start_year': 2001,\n",
    "\t\t'end_year': 2019,\n",
    "\t\t'test_procedure': 'simple',\n",
    "\t\t'transform': 'returns',\n",
    "\t\t'report': 'classification',\n",
    "\t\t'use_metalabeling': False,\n",
    "\t}"
   ]
  },
  {
   "cell_type": "code",
   "execution_count": 4,
   "metadata": {},
   "outputs": [],
   "source": [
    "import numpy as np\n",
    "import pandas as pd\n",
    "\n",
    "from path import Path\n",
    "\n",
    "from sampling import volume_bars, dollar_bars\n",
    "from filters import cusum\n",
    "from multiprocess import mpPandasObj\n",
    "from load_data import load_contracts\n",
    "\n",
    "from sklearn.ensemble import RandomForestClassifier\n",
    "from sklearn.metrics import roc_auc_score, classification_report, confusion_matrix, accuracy_score\n",
    "\n",
    "CUTOFF = 0.8\n"
   ]
  },
  {
   "cell_type": "code",
   "execution_count": null,
   "metadata": {},
   "outputs": [],
   "source": []
  }
 ],
 "metadata": {
  "kernelspec": {
   "display_name": "Python 3",
   "language": "python",
   "name": "python3"
  },
  "language_info": {
   "codemirror_mode": {
    "name": "ipython",
    "version": 3
   },
   "file_extension": ".py",
   "mimetype": "text/x-python",
   "name": "python",
   "nbconvert_exporter": "python",
   "pygments_lexer": "ipython3",
   "version": "3.5.6"
  }
 },
 "nbformat": 4,
 "nbformat_minor": 2
}
