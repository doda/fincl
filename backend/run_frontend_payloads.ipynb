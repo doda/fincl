{
 "cells": [
  {
   "cell_type": "code",
   "execution_count": 1,
   "metadata": {},
   "outputs": [],
   "source": [
    "%load_ext autoreload\n",
    "%autoreload 2"
   ]
  },
  {
   "cell_type": "code",
   "execution_count": 2,
   "metadata": {},
   "outputs": [
    {
     "name": "stderr",
     "output_type": "stream",
     "text": [
      "C:\\Users\\doda\\Anaconda3\\envs\\fincl2\\lib\\site-packages\\pyfolio\\pos.py:28: UserWarning: Module \"zipline.assets\" not found; mutltipliers will not be applied to position notionals.\n",
      "  ' to position notionals.'\n",
      "C:\\Users\\doda\\Anaconda3\\envs\\fincl2\\lib\\site-packages\\sklearn\\utils\\deprecation.py:144: FutureWarning: The sklearn.ensemble.bagging module is  deprecated in version 0.22 and will be removed in version 0.24. The corresponding classes / functions should instead be imported from sklearn.ensemble. Anything that cannot be imported from sklearn.ensemble is now part of the private API.\n",
      "  warnings.warn(message, FutureWarning)\n",
      "C:\\Users\\doda\\Anaconda3\\envs\\fincl2\\lib\\site-packages\\sklearn\\utils\\deprecation.py:144: FutureWarning: The sklearn.ensemble.base module is  deprecated in version 0.22 and will be removed in version 0.24. The corresponding classes / functions should instead be imported from sklearn.ensemble. Anything that cannot be imported from sklearn.ensemble is now part of the private API.\n",
      "  warnings.warn(message, FutureWarning)\n"
     ]
    }
   ],
   "source": [
    "import numpy as np\n",
    "import pandas as pd\n",
    "import matplotlib\n",
    "import matplotlib.pyplot as mpl\n",
    "\n",
    "from scipy.stats import norm, moment\n",
    "\n",
    "%matplotlib inline\n",
    "\n",
    "import os\n",
    "import time\n",
    "\n",
    "from mlbt.tearsheets import create_frontend_payload, make_default_config\n",
    "from mlbt.multiprocess import process_jobs\n",
    "\n",
    "config = make_default_config()\n",
    "\n",
    "def latest_files(files):\n",
    "    return list(sorted(files, key=os.path.getmtime)[::-1])\n",
    "\n",
    "all_files = (config[\"DATA_DIR\"] / 'payloads').files()\n",
    "\n",
    "# files = [x for x in all_files if x.size / 1e6 > 10 and '_none_' in x and not 'dummy' in x]# and 'lgb' in x]\n",
    "# files = [x for x in all_files if x.size / 1e6 > 10 and '_none_' in x and 'lgb' in x]\n",
    "files = [x for x in all_files if x.size / 1e6 > 1]# and '_none_' in x]\n",
    "\n",
    "# latest_file(files)"
   ]
  },
  {
   "cell_type": "code",
   "execution_count": 3,
   "metadata": {},
   "outputs": [
    {
     "name": "stdout",
     "output_type": "stream",
     "text": [
      "payload_agriculture-currency-energy-equity_index-interest_rate-metals_dollar_fixed_horizon_25_none_[]_dummy\n",
      "payload_agriculture-currency-energy-equity_index-interest_rate-metals_dollar_fixed_horizon_25_none_[]_lgbm\n",
      "payload_agriculture-currency-energy-equity_index-interest_rate-metals_dollar_fixed_horizon_25_none_[]_xgboost\n",
      "payload_agriculture-currency-energy-equity_index-interest_rate-metals_dollar_fixed_horizon_25_none_[]_random_forest\n",
      "payload_agriculture-currency-energy-equity_index-interest_rate-metals_dollar_fixed_horizon_200_none_[]_dummy\n",
      "payload_agriculture-currency-energy-equity_index-interest_rate-metals_dollar_fixed_horizon_200_none_[]_lgbm\n",
      "payload_agriculture-currency-energy-equity_index-interest_rate-metals_dollar_fixed_horizon_200_none_[]_xgboost\n",
      "payload_agriculture-currency-energy-equity_index-interest_rate-metals_dollar_fixed_horizon_200_none_[]_random_forest\n",
      "payload_agriculture-currency-energy-equity_index-interest_rate-metals_dollar_fixed_horizon_100_none_[]_dummy\n",
      "payload_agriculture-currency-energy-equity_index-interest_rate-metals_dollar_fixed_horizon_100_none_[]_lgbm\n",
      "payload_agriculture-currency-energy-equity_index-interest_rate-metals_dollar_fixed_horizon_100_none_[]_xgboost\n",
      "payload_agriculture-currency-energy-equity_index-interest_rate-metals_dollar_fixed_horizon_100_none_[]_random_forest\n",
      "payload_agriculture-currency-energy-equity_index-interest_rate-metals_dollar_fixed_horizon_50_none_[]_dummy\n",
      "payload_agriculture-currency-energy-equity_index-interest_rate-metals_dollar_fixed_horizon_50_none_[]_lgbm\n",
      "payload_agriculture-currency-energy-equity_index-interest_rate-metals_dollar_fixed_horizon_50_none_[]_xgboost\n",
      "payload_agriculture-currency-energy-equity_index-interest_rate-metals_dollar_fixed_horizon_50_none_[]_random_forest\n",
      "payload_agriculture-currency-energy-equity_index-interest_rate-metals_dollar_fixed_horizon_12_none_[]_dummy\n",
      "payload_agriculture-currency-energy-equity_index-interest_rate-metals_dollar_fixed_horizon_12_none_[]_lgbm\n",
      "payload_agriculture-currency-energy-equity_index-interest_rate-metals_dollar_fixed_horizon_12_none_[]_xgboost\n",
      "payload_agriculture-currency-energy-equity_index-interest_rate-metals_dollar_fixed_horizon_12_none_[]_random_forest\n",
      "payload_agriculture-currency-energy-equity_index-interest_rate-metals_dollar_fixed_horizon_6_none_[]_dummy\n",
      "payload_agriculture-currency-energy-equity_index-interest_rate-metals_dollar_fixed_horizon_6_none_[]_lgbm\n",
      "payload_agriculture-currency-energy-equity_index-interest_rate-metals_dollar_fixed_horizon_6_none_[]_xgboost\n",
      "payload_agriculture-currency-energy-equity_index-interest_rate-metals_dollar_fixed_horizon_6_none_[]_random_forest\n"
     ]
    }
   ],
   "source": [
    "# time.sleep(60 * 20)\n",
    "selected_files = latest_files(files)[:24]\n",
    "for x in [x.namebase.split('_', 0)[-1] for x in selected_files]:\n",
    "    print(x)"
   ]
  },
  {
   "cell_type": "code",
   "execution_count": 4,
   "metadata": {},
   "outputs": [
    {
     "name": "stderr",
     "output_type": "stream",
     "text": [
      "2020-02-26 14:09:39.346129 100.0% create_frontend_payload done after 7.0 minutes. Remaining 0.0 minutes....\n"
     ]
    },
    {
     "data": {
      "text/plain": [
       "[{'func': <function mlbt.tearsheets.create_frontend_payload(file_names, force=False, our_config=None)>,\n",
       "  'file_names': [Path('C:\\\\Users\\\\doda/Dropbox/algotrading/data\\\\payloads\\\\payload_agriculture-currency-energy-equity_index-interest_rate-metals_dollar_fixed_horizon_25_none_[]_dummy.json')],\n",
       "  'force': True},\n",
       " {'func': <function mlbt.tearsheets.create_frontend_payload(file_names, force=False, our_config=None)>,\n",
       "  'file_names': [Path('C:\\\\Users\\\\doda/Dropbox/algotrading/data\\\\payloads\\\\payload_agriculture-currency-energy-equity_index-interest_rate-metals_dollar_fixed_horizon_25_none_[]_lgbm.json')],\n",
       "  'force': True},\n",
       " {'func': <function mlbt.tearsheets.create_frontend_payload(file_names, force=False, our_config=None)>,\n",
       "  'file_names': [Path('C:\\\\Users\\\\doda/Dropbox/algotrading/data\\\\payloads\\\\payload_agriculture-currency-energy-equity_index-interest_rate-metals_dollar_fixed_horizon_25_none_[]_xgboost.json')],\n",
       "  'force': True},\n",
       " {'func': <function mlbt.tearsheets.create_frontend_payload(file_names, force=False, our_config=None)>,\n",
       "  'file_names': [Path('C:\\\\Users\\\\doda/Dropbox/algotrading/data\\\\payloads\\\\payload_agriculture-currency-energy-equity_index-interest_rate-metals_dollar_fixed_horizon_25_none_[]_random_forest.json')],\n",
       "  'force': True},\n",
       " {'func': <function mlbt.tearsheets.create_frontend_payload(file_names, force=False, our_config=None)>,\n",
       "  'file_names': [Path('C:\\\\Users\\\\doda/Dropbox/algotrading/data\\\\payloads\\\\payload_agriculture-currency-energy-equity_index-interest_rate-metals_dollar_fixed_horizon_200_none_[]_dummy.json')],\n",
       "  'force': True},\n",
       " {'func': <function mlbt.tearsheets.create_frontend_payload(file_names, force=False, our_config=None)>,\n",
       "  'file_names': [Path('C:\\\\Users\\\\doda/Dropbox/algotrading/data\\\\payloads\\\\payload_agriculture-currency-energy-equity_index-interest_rate-metals_dollar_fixed_horizon_200_none_[]_lgbm.json')],\n",
       "  'force': True},\n",
       " {'func': <function mlbt.tearsheets.create_frontend_payload(file_names, force=False, our_config=None)>,\n",
       "  'file_names': [Path('C:\\\\Users\\\\doda/Dropbox/algotrading/data\\\\payloads\\\\payload_agriculture-currency-energy-equity_index-interest_rate-metals_dollar_fixed_horizon_200_none_[]_xgboost.json')],\n",
       "  'force': True},\n",
       " {'func': <function mlbt.tearsheets.create_frontend_payload(file_names, force=False, our_config=None)>,\n",
       "  'file_names': [Path('C:\\\\Users\\\\doda/Dropbox/algotrading/data\\\\payloads\\\\payload_agriculture-currency-energy-equity_index-interest_rate-metals_dollar_fixed_horizon_200_none_[]_random_forest.json')],\n",
       "  'force': True},\n",
       " {'func': <function mlbt.tearsheets.create_frontend_payload(file_names, force=False, our_config=None)>,\n",
       "  'file_names': [Path('C:\\\\Users\\\\doda/Dropbox/algotrading/data\\\\payloads\\\\payload_agriculture-currency-energy-equity_index-interest_rate-metals_dollar_fixed_horizon_100_none_[]_dummy.json')],\n",
       "  'force': True},\n",
       " {'func': <function mlbt.tearsheets.create_frontend_payload(file_names, force=False, our_config=None)>,\n",
       "  'file_names': [Path('C:\\\\Users\\\\doda/Dropbox/algotrading/data\\\\payloads\\\\payload_agriculture-currency-energy-equity_index-interest_rate-metals_dollar_fixed_horizon_100_none_[]_lgbm.json')],\n",
       "  'force': True},\n",
       " {'func': <function mlbt.tearsheets.create_frontend_payload(file_names, force=False, our_config=None)>,\n",
       "  'file_names': [Path('C:\\\\Users\\\\doda/Dropbox/algotrading/data\\\\payloads\\\\payload_agriculture-currency-energy-equity_index-interest_rate-metals_dollar_fixed_horizon_100_none_[]_xgboost.json')],\n",
       "  'force': True},\n",
       " {'func': <function mlbt.tearsheets.create_frontend_payload(file_names, force=False, our_config=None)>,\n",
       "  'file_names': [Path('C:\\\\Users\\\\doda/Dropbox/algotrading/data\\\\payloads\\\\payload_agriculture-currency-energy-equity_index-interest_rate-metals_dollar_fixed_horizon_100_none_[]_random_forest.json')],\n",
       "  'force': True},\n",
       " {'func': <function mlbt.tearsheets.create_frontend_payload(file_names, force=False, our_config=None)>,\n",
       "  'file_names': [Path('C:\\\\Users\\\\doda/Dropbox/algotrading/data\\\\payloads\\\\payload_agriculture-currency-energy-equity_index-interest_rate-metals_dollar_fixed_horizon_50_none_[]_dummy.json')],\n",
       "  'force': True},\n",
       " {'func': <function mlbt.tearsheets.create_frontend_payload(file_names, force=False, our_config=None)>,\n",
       "  'file_names': [Path('C:\\\\Users\\\\doda/Dropbox/algotrading/data\\\\payloads\\\\payload_agriculture-currency-energy-equity_index-interest_rate-metals_dollar_fixed_horizon_50_none_[]_lgbm.json')],\n",
       "  'force': True},\n",
       " {'func': <function mlbt.tearsheets.create_frontend_payload(file_names, force=False, our_config=None)>,\n",
       "  'file_names': [Path('C:\\\\Users\\\\doda/Dropbox/algotrading/data\\\\payloads\\\\payload_agriculture-currency-energy-equity_index-interest_rate-metals_dollar_fixed_horizon_50_none_[]_xgboost.json')],\n",
       "  'force': True},\n",
       " {'func': <function mlbt.tearsheets.create_frontend_payload(file_names, force=False, our_config=None)>,\n",
       "  'file_names': [Path('C:\\\\Users\\\\doda/Dropbox/algotrading/data\\\\payloads\\\\payload_agriculture-currency-energy-equity_index-interest_rate-metals_dollar_fixed_horizon_50_none_[]_random_forest.json')],\n",
       "  'force': True},\n",
       " {'func': <function mlbt.tearsheets.create_frontend_payload(file_names, force=False, our_config=None)>,\n",
       "  'file_names': [Path('C:\\\\Users\\\\doda/Dropbox/algotrading/data\\\\payloads\\\\payload_agriculture-currency-energy-equity_index-interest_rate-metals_dollar_fixed_horizon_12_none_[]_dummy.json')],\n",
       "  'force': True},\n",
       " {'func': <function mlbt.tearsheets.create_frontend_payload(file_names, force=False, our_config=None)>,\n",
       "  'file_names': [Path('C:\\\\Users\\\\doda/Dropbox/algotrading/data\\\\payloads\\\\payload_agriculture-currency-energy-equity_index-interest_rate-metals_dollar_fixed_horizon_12_none_[]_lgbm.json')],\n",
       "  'force': True},\n",
       " {'func': <function mlbt.tearsheets.create_frontend_payload(file_names, force=False, our_config=None)>,\n",
       "  'file_names': [Path('C:\\\\Users\\\\doda/Dropbox/algotrading/data\\\\payloads\\\\payload_agriculture-currency-energy-equity_index-interest_rate-metals_dollar_fixed_horizon_12_none_[]_xgboost.json')],\n",
       "  'force': True},\n",
       " {'func': <function mlbt.tearsheets.create_frontend_payload(file_names, force=False, our_config=None)>,\n",
       "  'file_names': [Path('C:\\\\Users\\\\doda/Dropbox/algotrading/data\\\\payloads\\\\payload_agriculture-currency-energy-equity_index-interest_rate-metals_dollar_fixed_horizon_12_none_[]_random_forest.json')],\n",
       "  'force': True},\n",
       " {'func': <function mlbt.tearsheets.create_frontend_payload(file_names, force=False, our_config=None)>,\n",
       "  'file_names': [Path('C:\\\\Users\\\\doda/Dropbox/algotrading/data\\\\payloads\\\\payload_agriculture-currency-energy-equity_index-interest_rate-metals_dollar_fixed_horizon_6_none_[]_dummy.json')],\n",
       "  'force': True},\n",
       " {'func': <function mlbt.tearsheets.create_frontend_payload(file_names, force=False, our_config=None)>,\n",
       "  'file_names': [Path('C:\\\\Users\\\\doda/Dropbox/algotrading/data\\\\payloads\\\\payload_agriculture-currency-energy-equity_index-interest_rate-metals_dollar_fixed_horizon_6_none_[]_lgbm.json')],\n",
       "  'force': True},\n",
       " {'func': <function mlbt.tearsheets.create_frontend_payload(file_names, force=False, our_config=None)>,\n",
       "  'file_names': [Path('C:\\\\Users\\\\doda/Dropbox/algotrading/data\\\\payloads\\\\payload_agriculture-currency-energy-equity_index-interest_rate-metals_dollar_fixed_horizon_6_none_[]_xgboost.json')],\n",
       "  'force': True},\n",
       " {'func': <function mlbt.tearsheets.create_frontend_payload(file_names, force=False, our_config=None)>,\n",
       "  'file_names': [Path('C:\\\\Users\\\\doda/Dropbox/algotrading/data\\\\payloads\\\\payload_agriculture-currency-energy-equity_index-interest_rate-metals_dollar_fixed_horizon_6_none_[]_random_forest.json')],\n",
       "  'force': True}]"
      ]
     },
     "execution_count": 4,
     "metadata": {},
     "output_type": "execute_result"
    }
   ],
   "source": [
    "datas = [{'func': create_frontend_payload, 'file_names': [fn], 'force': True} for fn in selected_files]\n",
    "process_jobs(datas, num_threads=min(len(datas), 24))\n",
    "datas"
   ]
  },
  {
   "cell_type": "code",
   "execution_count": null,
   "metadata": {
    "scrolled": false
   },
   "outputs": [],
   "source": []
  },
  {
   "cell_type": "code",
   "execution_count": 5,
   "metadata": {
    "scrolled": false
   },
   "outputs": [],
   "source": [
    "# for file in selected_files:\n",
    "#     create_frontend_payload([file], True)"
   ]
  },
  {
   "cell_type": "code",
   "execution_count": 6,
   "metadata": {},
   "outputs": [
    {
     "name": "stderr",
     "output_type": "stream",
     "text": [
      "2020-02-26 14:09:41,387 No traceback has been produced, nothing to debug.\n"
     ]
    }
   ],
   "source": [
    "%debug\n"
   ]
  },
  {
   "cell_type": "code",
   "execution_count": 7,
   "metadata": {},
   "outputs": [],
   "source": [
    "# create_frontend_payload(selected_files, True)"
   ]
  }
 ],
 "metadata": {
  "kernelspec": {
   "display_name": "Python 3",
   "language": "python",
   "name": "python3"
  },
  "language_info": {
   "codemirror_mode": {
    "name": "ipython",
    "version": 3
   },
   "file_extension": ".py",
   "mimetype": "text/x-python",
   "name": "python",
   "nbconvert_exporter": "python",
   "pygments_lexer": "ipython3",
   "version": "3.6.7"
  }
 },
 "nbformat": 4,
 "nbformat_minor": 2
}
