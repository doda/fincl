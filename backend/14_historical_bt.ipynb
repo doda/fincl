{
 "cells": [
  {
   "cell_type": "code",
   "execution_count": 2,
   "metadata": {},
   "outputs": [],
   "source": [
    "# default_exp historical_bt"
   ]
  },
  {
   "cell_type": "code",
   "execution_count": 30,
   "metadata": {},
   "outputs": [],
   "source": [
    "import numpy as np\n",
    "import pandas as pd\n",
    "import matplotlib\n",
    "import matplotlib.pyplot as mpl\n",
    "\n",
    "from scipy.stats import norm, moment\n",
    "\n",
    "%matplotlib inline\n",
    "mpl.style.use(\"ggplot\")\n",
    "mpl.rcParams[\"figure.figsize\"] = 16, 6"
   ]
  },
  {
   "cell_type": "code",
   "execution_count": 4,
   "metadata": {},
   "outputs": [],
   "source": [
    "# export\n",
    "\n",
    "import pandas as pd\n",
    "import numpy as np\n",
    "import logging\n",
    "\n",
    "SLIPPAGE_ESTIMATE = 0.25  # We estimate we'll pay 1/4 of the bid-ask spread\n",
    "COMMISSION_ESTIMATE = 1 \n",
    "\n",
    "\n",
    "def simulate_pnl(config, close, signal, volatilities, pos_size=50000, pos_cap_multi=1000, init_capital=7e7):\n",
    "    pos_cap = pos_size * pos_cap_multi\n",
    "    \n",
    "    currency_pos = (pos_size * signal / volatilities).clip(-pos_cap, pos_cap)\n",
    "    profits_gross = (close.pct_change() * currency_pos.shift(periods=1)).sum(axis=1)\n",
    "    \n",
    "    profits_net, stats = estimate_trading_costs(\n",
    "        config, close, currency_pos, profits_gross\n",
    "    )\n",
    "    nav_net = (1 + (profits_net) / init_capital).cumprod()\n",
    "    \n",
    "    return nav_net, None, stats, currency_pos, profits_net\n",
    "\n",
    "\n",
    "def estimate_trading_costs(config, prices, currency_pos, profits):\n",
    "    # TODO: This code is old and needs refactoring\n",
    "    # Do copies to shapes of prices dataframe and allow for easy multiplication later\n",
    "    multipliers = prices.copy()\n",
    "    for col in multipliers.columns:\n",
    "        multipliers[col] = config[\"symbols_map\"].loc[col, \"multiplier\"]\n",
    "\n",
    "    tick_sizes = prices.copy()\n",
    "    for col in tick_sizes.columns:\n",
    "        tick_sizes[col] = config[\"symbols_map\"].loc[col, \"mintick\"]\n",
    "\n",
    "    commissions = pd.DataFrame(COMMISSION_ESTIMATE, index=prices.index, columns=prices.columns)\n",
    "\n",
    "    num_contracts = currency_pos.div(multipliers.mul(prices)).round(0)\n",
    "\n",
    "    contracts_traded = num_contracts.diff().abs()\n",
    "    slippage = contracts_traded.mul(tick_sizes.mul(multipliers)) * SLIPPAGE_ESTIMATE\n",
    "    commissions_cost = contracts_traded.mul(commissions)\n",
    "    trading_costs = commissions_cost + slippage\n",
    "    daily_trading_costs = trading_costs.fillna(0).sum(axis=1)\n",
    "    profits_less_costs = profits - daily_trading_costs\n",
    "\n",
    "    trade_count = contracts_traded.astype(bool).astype(float).sum().sum()\n",
    "\n",
    "    stats = {\n",
    "        \"trade_count\": trade_count.sum().sum(),\n",
    "        \"contracts_traded\": contracts_traded.sum().sum(),\n",
    "        \"total_trading_costs\": daily_trading_costs.sum(),\n",
    "        \"commissions_cost\": commissions_cost.sum(axis=1).sum(),\n",
    "        \"slippage\": slippage.sum(axis=1).sum(),\n",
    "    }\n",
    "\n",
    "    return profits_less_costs, stats"
   ]
  },
  {
   "cell_type": "code",
   "execution_count": 3,
   "metadata": {},
   "outputs": [],
   "source": []
  },
  {
   "cell_type": "code",
   "execution_count": null,
   "metadata": {},
   "outputs": [],
   "source": []
  }
 ],
 "metadata": {
  "kernelspec": {
   "display_name": "Python 3",
   "language": "python",
   "name": "python3"
  },
  "language_info": {
   "codemirror_mode": {
    "name": "ipython",
    "version": 3
   },
   "file_extension": ".py",
   "mimetype": "text/x-python",
   "name": "python",
   "nbconvert_exporter": "python",
   "pygments_lexer": "ipython3",
   "version": "3.6.7"
  }
 },
 "nbformat": 4,
 "nbformat_minor": 2
}
